{
 "cells": [
  {
   "cell_type": "code",
   "execution_count": 1,
   "metadata": {},
   "outputs": [],
   "source": [
    "import pandas as pd\n",
    "from sklearn.model_selection import train_test_split\n",
    "from sklearn.linear_model import LinearRegression"
   ]
  },
  {
   "cell_type": "markdown",
   "metadata": {},
   "source": [
    "## Import csv"
   ]
  },
  {
   "cell_type": "code",
   "execution_count": 2,
   "metadata": {},
   "outputs": [],
   "source": [
    "df = pd.read_csv(\"data/consolidated_2022-10-13_v1\", index_col = None)\n",
    "df = df.drop(columns = 'Unnamed: 0')\n",
    "df.columns = [\"time\", \"temp\", \"wt\", \"dta\", \"wt_pc\", \"compound\", \"condition\"]"
   ]
  },
  {
   "cell_type": "markdown",
   "metadata": {},
   "source": [
    "## Test Train Split"
   ]
  },
  {
   "cell_type": "code",
   "execution_count": 3,
   "metadata": {},
   "outputs": [],
   "source": [
    "def test_train_compound(df, product):\n",
    "    \"\"\"\n",
    "    Function to split test/train data for each compound\n",
    "    \n",
    "    Argument:\n",
    "        df      : pandas dataframe\n",
    "        product : tbbpa, caoh2, both\n",
    "        \n",
    "    Output:\n",
    "        X_train, X_test, y_train, y_test : 4 pandas dataframe which have the split data \n",
    "    \"\"\"\n",
    "    df = df.query('compound == @product')\n",
    "    X_train, X_test, y_train, y_test = train_test_split(df[[\"time\", \"temp\", \"condition\" ]], df[\"wt\"], test_size=0.2, random_state=7)\n",
    "    return X_train, X_test, y_train, y_test"
   ]
  },
  {
   "cell_type": "markdown",
   "metadata": {},
   "source": [
    "## Modelling"
   ]
  },
  {
   "cell_type": "markdown",
   "metadata": {},
   "source": [
    "### Linear Modelling"
   ]
  },
  {
   "cell_type": "code",
   "execution_count": 17,
   "metadata": {},
   "outputs": [],
   "source": [
    "def linear_model(df, product = 'caoh2'):\n",
    "    X_train, X_test, y_train, y_test = test_train_compound(df, product)\n",
    "    print(\"The 4 matrices for \", product, \" are of sizes: \", X_train.shape, X_test.shape, y_train.shape, y_test.shape)\n",
    "    reg = LinearRegression().fit(X_train, y_train)\n",
    "    print(\"The accuracy for \", product, \" model is \", reg.score(X_train, y_train)) "
   ]
  },
  {
   "cell_type": "code",
   "execution_count": 38,
   "metadata": {},
   "outputs": [
    {
     "name": "stdout",
     "output_type": "stream",
     "text": [
      "The 4 matrices for  tbbpa  are of sizes:  (31132, 3) (7783, 3) (31132,) (7783,)\n",
      "The accuracy for  tbbpa  model is  0.8241165411318243\n",
      "The 4 matrices for  caoh2  are of sizes:  (31108, 3) (7778, 3) (31108,) (7778,)\n",
      "The accuracy for  caoh2  model is  0.8452718463394618\n",
      "The 4 matrices for  both  are of sizes:  (31068, 3) (7767, 3) (31068,) (7767,)\n",
      "The accuracy for  both  model is  0.9282599428748095\n"
     ]
    }
   ],
   "source": [
    "for i in df.compound.value_counts().index:\n",
    "    linear_model(df, i)"
   ]
  },
  {
   "cell_type": "code",
   "execution_count": null,
   "metadata": {},
   "outputs": [],
   "source": []
  }
 ],
 "metadata": {
  "kernelspec": {
   "display_name": "Python 3",
   "language": "python",
   "name": "python3"
  },
  "language_info": {
   "codemirror_mode": {
    "name": "ipython",
    "version": 3
   },
   "file_extension": ".py",
   "mimetype": "text/x-python",
   "name": "python",
   "nbconvert_exporter": "python",
   "pygments_lexer": "ipython3",
   "version": "3.7.6"
  }
 },
 "nbformat": 4,
 "nbformat_minor": 4
}

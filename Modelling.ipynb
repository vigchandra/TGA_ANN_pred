{
 "cells": [
  {
   "cell_type": "code",
   "execution_count": 3,
   "metadata": {},
   "outputs": [
    {
     "data": {
      "text/plain": [
       "DataTransformerRegistry.enable('default')"
      ]
     },
     "execution_count": 3,
     "metadata": {},
     "output_type": "execute_result"
    }
   ],
   "source": [
    "import pandas as pd\n",
    "from sklearn.model_selection import train_test_split\n",
    "from sklearn.linear_model import LinearRegression\n",
    "from sklearn.ensemble import RandomForestRegressor\n",
    "from sklearn.svm import SVR\n",
    "import altair as alt\n",
    "alt.data_transformers.disable_max_rows()"
   ]
  },
  {
   "cell_type": "markdown",
   "metadata": {},
   "source": [
    "## Import csv"
   ]
  },
  {
   "cell_type": "code",
   "execution_count": 4,
   "metadata": {},
   "outputs": [],
   "source": [
    "df = pd.read_csv(\"data/consolidated_2022-10-13_v1\", index_col = None)\n",
    "df = df.drop(columns = 'Unnamed: 0')\n",
    "df.columns = [\"time\", \"temp\", \"wt\", \"dta\", \"wt_pc\", \"compound\", \"condition\"]"
   ]
  },
  {
   "cell_type": "markdown",
   "metadata": {},
   "source": [
    "## Test Train Split"
   ]
  },
  {
   "cell_type": "code",
   "execution_count": 5,
   "metadata": {},
   "outputs": [],
   "source": [
    "def test_train_compound(df, product):\n",
    "    \"\"\"\n",
    "    Function to split test/train data for each compound\n",
    "    \n",
    "    Argument:\n",
    "        df      : pandas dataframe\n",
    "        product : tbbpa, caoh2, both\n",
    "        \n",
    "    Output:\n",
    "        X_train, X_test, y_train, y_test : 4 pandas dataframe which have the split data \n",
    "    \"\"\"\n",
    "    df = df.query('compound == @product')\n",
    "    X_train, X_test, y_train, y_test = train_test_split(df[[\"time\", \"temp\", \"condition\" ]], df[\"wt\"], test_size=0.2, random_state=7)\n",
    "    return X_train, X_test, y_train, y_test"
   ]
  },
  {
   "cell_type": "markdown",
   "metadata": {},
   "source": [
    "## Modelling"
   ]
  },
  {
   "cell_type": "markdown",
   "metadata": {},
   "source": [
    "### Linear Modelling"
   ]
  },
  {
   "cell_type": "code",
   "execution_count": 51,
   "metadata": {},
   "outputs": [
    {
     "name": "stdout",
     "output_type": "stream",
     "text": [
      "The 4 matrices for -- tbbpa -- are of sizes:  (31132, 3) (7783, 3) (31132,) (7783,)\n",
      "The training accuracy for the model is  0.8241165411318243\n",
      "The testing accuracy for the model is  0.8177440908139991\n",
      "The 4 matrices for -- caoh2 -- are of sizes:  (31108, 3) (7778, 3) (31108,) (7778,)\n",
      "The training accuracy for the model is  0.8452718463394618\n",
      "The testing accuracy for the model is  0.8425280291844488\n",
      "The 4 matrices for -- both -- are of sizes:  (31068, 3) (7767, 3) (31068,) (7767,)\n",
      "The training accuracy for the model is  0.9282599428748095\n",
      "The testing accuracy for the model is  0.9281879293428571\n"
     ]
    }
   ],
   "source": [
    "def linear_model(df, product):\n",
    "    X_train, X_test, y_train, y_test = test_train_compound(df, product)\n",
    "    print(\"The 4 matrices for --\", product, \"-- are of sizes: \", X_train.shape, X_test.shape, y_train.shape, y_test.shape)\n",
    "    lr = LinearRegression().fit(X_train, y_train)\n",
    "    print(\"The training accuracy for the model is \", lr.score(X_train, y_train))\n",
    "    print(\"The testing accuracy for the model is \", lr.score(X_test, y_test))\n",
    "for i in df.compound.value_counts().index:\n",
    "    linear_model(df, i)"
   ]
  },
  {
   "cell_type": "markdown",
   "metadata": {},
   "source": [
    "## Random Forest"
   ]
  },
  {
   "cell_type": "code",
   "execution_count": 52,
   "metadata": {},
   "outputs": [
    {
     "name": "stdout",
     "output_type": "stream",
     "text": [
      "The 4 matrices for -- tbbpa -- are of sizes:  (31132, 3) (7783, 3) (31132,) (7783,)\n",
      "The training accuracy for the model is  0.9999999548192982\n",
      "The testing accuracy for the model is  0.9999997232221379\n",
      "The 4 matrices for -- caoh2 -- are of sizes:  (31108, 3) (7778, 3) (31108,) (7778,)\n",
      "The training accuracy for the model is  0.9999999491732414\n",
      "The testing accuracy for the model is  0.9999997015847268\n",
      "The 4 matrices for -- both -- are of sizes:  (31068, 3) (7767, 3) (31068,) (7767,)\n",
      "The training accuracy for the model is  0.9999999756134385\n",
      "The testing accuracy for the model is  0.999999888633666\n"
     ]
    }
   ],
   "source": [
    "def random_forest(df, product):\n",
    "    X_train, X_test, y_train, y_test = test_train_compound(df, product)\n",
    "    print(\"The 4 matrices for --\", product, \"-- are of sizes: \", X_train.shape, X_test.shape, y_train.shape, y_test.shape)\n",
    "    rf = RandomForestRegressor(random_state=0).fit(X_train, y_train)\n",
    "    print(\"The training accuracy for the model is \", rf.score(X_train, y_train))\n",
    "    print(\"The testing accuracy for the model is \", rf.score(X_test, y_test))\n",
    "for i in df.compound.value_counts().index:\n",
    "    random_forest(df, i)"
   ]
  },
  {
   "cell_type": "code",
   "execution_count": null,
   "metadata": {},
   "outputs": [],
   "source": [
    "max_depth = range(1, 10)\n",
    "X_train, X_test, y_train, y_test = test_train_compound(df, \"tbbpa\")\n",
    "depth = []\n",
    "train_acc = []\n",
    "test_acc = []\n",
    "for i in max_depth:\n",
    "    depth.append(i)\n",
    "    rf = RandomForestRegressor(max_depth = i, random_state=0).fit(X_train, y_train)\n",
    "    train_acc.append(rf.score(X_train, y_train))\n",
    "    test_acc.append(rf.score(X_test, y_test))\n",
    "    print(i)\n",
    "df_rf = pd.DataFrame({'training' : train_acc,\n",
    "                      'testing' : test_acc,\n",
    "                      'max_depth' : depth})\n",
    "df_rf = df_rf.melt(id_vars = 'max_depth', var_name = 'Type', value_name = 'Accuracy')"
   ]
  },
  {
   "cell_type": "code",
   "execution_count": 86,
   "metadata": {},
   "outputs": [
    {
     "data": {
      "application/vnd.vegalite.v3+json": {
       "$schema": "https://vega.github.io/schema/vega-lite/v3.4.0.json",
       "config": {
        "mark": {
         "tooltip": null
        },
        "view": {
         "height": 300,
         "width": 400
        }
       },
       "data": {
        "name": "data-09de5eea806e3374ff5c8554bdb33507"
       },
       "datasets": {
        "data-09de5eea806e3374ff5c8554bdb33507": [
         {
          "Accuracy": 0.9407023560168518,
          "Type": "training",
          "max_depth": 1
         },
         {
          "Accuracy": 0.9780280072538393,
          "Type": "training",
          "max_depth": 2
         },
         {
          "Accuracy": 0.9881337304827227,
          "Type": "training",
          "max_depth": 3
         },
         {
          "Accuracy": 0.9936585824221296,
          "Type": "training",
          "max_depth": 4
         },
         {
          "Accuracy": 0.9983636581498302,
          "Type": "training",
          "max_depth": 5
         },
         {
          "Accuracy": 0.9992576686178172,
          "Type": "training",
          "max_depth": 6
         },
         {
          "Accuracy": 0.999642425296049,
          "Type": "training",
          "max_depth": 7
         },
         {
          "Accuracy": 0.9348823307196736,
          "Type": "testing",
          "max_depth": 1
         },
         {
          "Accuracy": 0.9761783563426378,
          "Type": "testing",
          "max_depth": 2
         },
         {
          "Accuracy": 0.9878837236496639,
          "Type": "testing",
          "max_depth": 3
         },
         {
          "Accuracy": 0.993635893716135,
          "Type": "testing",
          "max_depth": 4
         },
         {
          "Accuracy": 0.9983282720953466,
          "Type": "testing",
          "max_depth": 5
         },
         {
          "Accuracy": 0.9992263340079527,
          "Type": "testing",
          "max_depth": 6
         },
         {
          "Accuracy": 0.9996116352970404,
          "Type": "testing",
          "max_depth": 7
         }
        ]
       },
       "encoding": {
        "color": {
         "field": "Type",
         "type": "nominal"
        },
        "x": {
         "field": "max_depth",
         "type": "quantitative"
        },
        "y": {
         "field": "Accuracy",
         "scale": {
          "domain": [
           0.9,
           1
          ]
         },
         "type": "quantitative"
        }
       },
       "mark": "line"
      },
      "image/png": "[encoded data removed]",
      "text/plain": [
       "<VegaLite 3 object>\n",
       "\n",
       "If you see this message, it means the renderer has not been properly enabled\n",
       "for the frontend that you are using. For more information, see\n",
       "https://altair-viz.github.io/user_guide/troubleshooting.html\n"
      ]
     },
     "execution_count": 86,
     "metadata": {},
     "output_type": "execute_result"
    }
   ],
   "source": [
    "alt.Chart(df_rf.query(\"max_depth < 8\")).mark_line().encode(\n",
    "    alt.X('max_depth'),\n",
    "    alt.Y('Accuracy', scale=alt.Scale(domain=[0.9, 1])),\n",
    "    alt.Color('Type:N'))"
   ]
  },
  {
   "cell_type": "markdown",
   "metadata": {},
   "source": [
    "## Support Vector Regression"
   ]
  },
  {
   "cell_type": "code",
   "execution_count": null,
   "metadata": {},
   "outputs": [],
   "source": [
    "\n",
    "svr_poly = SVR(kernel=\"poly\", C=100, gamma=\"auto\", degree=3, epsilon=0.1, coef0=1)"
   ]
  },
  {
   "cell_type": "code",
   "execution_count": 7,
   "metadata": {},
   "outputs": [
    {
     "name": "stdout",
     "output_type": "stream",
     "text": [
      "The 4 matrices for -- tbbpa -- are of sizes:  (31132, 3) (7783, 3) (31132,) (7783,)\n",
      "The training accuracy for the model is  0.999092342646466\n",
      "The testing accuracy for the model is  0.9990811126548853\n",
      "The 4 matrices for -- caoh2 -- are of sizes:  (31108, 3) (7778, 3) (31108,) (7778,)\n",
      "The training accuracy for the model is  0.9909938201261017\n",
      "The testing accuracy for the model is  0.9909521849112124\n",
      "The 4 matrices for -- both -- are of sizes:  (31068, 3) (7767, 3) (31068,) (7767,)\n",
      "The training accuracy for the model is  0.9947589263560653\n",
      "The testing accuracy for the model is  0.9947807740739544\n"
     ]
    }
   ],
   "source": [
    "def fn_svr_rbf(df, product):\n",
    "    X_train, X_test, y_train, y_test = test_train_compound(df, product)\n",
    "    print(\"The 4 matrices for --\", product, \"-- are of sizes: \", X_train.shape, X_test.shape, y_train.shape, y_test.shape)\n",
    "    svr_rbf = SVR(kernel=\"rbf\", C=100, gamma=0.1, epsilon=0.1).fit(X_train, y_train)\n",
    "    print(\"The training accuracy for the model is \", svr_rbf.score(X_train, y_train))\n",
    "    print(\"The testing accuracy for the model is \", svr_rbf.score(X_test, y_test))\n",
    "for i in df.compound.value_counts().index:\n",
    "    fn_svr_rbf(df, i)"
   ]
  },
  {
   "cell_type": "code",
   "execution_count": null,
   "metadata": {},
   "outputs": [
    {
     "name": "stdout",
     "output_type": "stream",
     "text": [
      "The 4 matrices for -- tbbpa -- are of sizes:  (31132, 3) (7783, 3) (31132,) (7783,)\n"
     ]
    }
   ],
   "source": [
    "def fn_svr_lin(df, product):\n",
    "    X_train, X_test, y_train, y_test = test_train_compound(df, product)\n",
    "    print(\"The 4 matrices for --\", product, \"-- are of sizes: \", X_train.shape, X_test.shape, y_train.shape, y_test.shape)\n",
    "    svr_lin = SVR(kernel=\"linear\", C=100, gamma=\"auto\").fit(X_train, y_train)\n",
    "    print(\"The training accuracy for the model is \", svr_lin.score(X_train, y_train))\n",
    "    print(\"The testing accuracy for the model is \", svr_lin.score(X_test, y_test))\n",
    "for i in df.compound.value_counts().index:\n",
    "    fn_svr_lin(df, i)"
   ]
  },
  {
   "cell_type": "code",
   "execution_count": null,
   "metadata": {},
   "outputs": [],
   "source": []
  },
  {
   "cell_type": "code",
   "execution_count": null,
   "metadata": {},
   "outputs": [],
   "source": []
  }
 ],
 "metadata": {
  "kernelspec": {
   "display_name": "Python 3",
   "language": "python",
   "name": "python3"
  },
  "language_info": {
   "codemirror_mode": {
    "name": "ipython",
    "version": 3
   },
   "file_extension": ".py",
   "mimetype": "text/x-python",
   "name": "python",
   "nbconvert_exporter": "python",
   "pygments_lexer": "ipython3",
   "version": "3.7.6"
  }
 },
 "nbformat": 4,
 "nbformat_minor": 4
}

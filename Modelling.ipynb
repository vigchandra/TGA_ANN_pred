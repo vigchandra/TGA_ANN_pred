{
 "cells": [
  {
   "cell_type": "code",
   "execution_count": 34,
   "metadata": {},
   "outputs": [
    {
     "data": {
      "text/plain": [
       "DataTransformerRegistry.enable('default')"
      ]
     },
     "execution_count": 34,
     "metadata": {},
     "output_type": "execute_result"
    }
   ],
   "source": [
    "import pandas as pd\n",
    "from sklearn.model_selection import train_test_split\n",
    "from sklearn.linear_model import LinearRegression\n",
    "from sklearn.ensemble import RandomForestRegressor\n",
    "from sklearn.svm import SVR\n",
    "from sklearn.cross_decomposition import PLSRegression\n",
    "import altair as alt\n",
    "alt.data_transformers.disable_max_rows()"
   ]
  },
  {
   "cell_type": "markdown",
   "metadata": {},
   "source": [
    "## Import csv"
   ]
  },
  {
   "cell_type": "code",
   "execution_count": 3,
   "metadata": {},
   "outputs": [],
   "source": [
    "df = pd.read_csv(\"data/consolidated_2022-10-13_v1\", index_col = None)\n",
    "df = df.drop(columns = 'Unnamed: 0')\n",
    "df.columns = [\"time\", \"temp\", \"wt\", \"dta\", \"wt_pc\", \"compound\", \"condition\"]"
   ]
  },
  {
   "cell_type": "code",
   "execution_count": 19,
   "metadata": {},
   "outputs": [
    {
     "data": {
      "text/html": [
       "<div>\n",
       "<style scoped>\n",
       "    .dataframe tbody tr th:only-of-type {\n",
       "        vertical-align: middle;\n",
       "    }\n",
       "\n",
       "    .dataframe tbody tr th {\n",
       "        vertical-align: top;\n",
       "    }\n",
       "\n",
       "    .dataframe thead th {\n",
       "        text-align: right;\n",
       "    }\n",
       "</style>\n",
       "<table border=\"1\" class=\"dataframe\">\n",
       "  <thead>\n",
       "    <tr style=\"text-align: right;\">\n",
       "      <th></th>\n",
       "      <th>time</th>\n",
       "      <th>temp</th>\n",
       "      <th>wt</th>\n",
       "      <th>dta</th>\n",
       "      <th>wt_pc</th>\n",
       "      <th>compound</th>\n",
       "      <th>condition</th>\n",
       "    </tr>\n",
       "  </thead>\n",
       "  <tbody>\n",
       "    <tr>\n",
       "      <th>0</th>\n",
       "      <td>0.000933</td>\n",
       "      <td>21.32432</td>\n",
       "      <td>9.058288</td>\n",
       "      <td>-0.012645</td>\n",
       "      <td>100.000000</td>\n",
       "      <td>both</td>\n",
       "      <td>20</td>\n",
       "    </tr>\n",
       "    <tr>\n",
       "      <th>1</th>\n",
       "      <td>0.004167</td>\n",
       "      <td>21.32125</td>\n",
       "      <td>9.058359</td>\n",
       "      <td>-0.012647</td>\n",
       "      <td>100.000784</td>\n",
       "      <td>both</td>\n",
       "      <td>20</td>\n",
       "    </tr>\n",
       "    <tr>\n",
       "      <th>2</th>\n",
       "      <td>0.012500</td>\n",
       "      <td>21.32316</td>\n",
       "      <td>9.058353</td>\n",
       "      <td>-0.012646</td>\n",
       "      <td>100.000718</td>\n",
       "      <td>both</td>\n",
       "      <td>20</td>\n",
       "    </tr>\n",
       "    <tr>\n",
       "      <th>3</th>\n",
       "      <td>0.020833</td>\n",
       "      <td>21.32828</td>\n",
       "      <td>9.058349</td>\n",
       "      <td>-0.012643</td>\n",
       "      <td>100.000673</td>\n",
       "      <td>both</td>\n",
       "      <td>20</td>\n",
       "    </tr>\n",
       "    <tr>\n",
       "      <th>4</th>\n",
       "      <td>0.029167</td>\n",
       "      <td>21.33278</td>\n",
       "      <td>9.058361</td>\n",
       "      <td>-0.012640</td>\n",
       "      <td>100.000806</td>\n",
       "      <td>both</td>\n",
       "      <td>20</td>\n",
       "    </tr>\n",
       "    <tr>\n",
       "      <th>...</th>\n",
       "      <td>...</td>\n",
       "      <td>...</td>\n",
       "      <td>...</td>\n",
       "      <td>...</td>\n",
       "      <td>...</td>\n",
       "      <td>...</td>\n",
       "      <td>...</td>\n",
       "    </tr>\n",
       "    <tr>\n",
       "      <th>116631</th>\n",
       "      <td>155.579200</td>\n",
       "      <td>797.84160</td>\n",
       "      <td>1.297143</td>\n",
       "      <td>0.015931</td>\n",
       "      <td>14.455047</td>\n",
       "      <td>tbbpa</td>\n",
       "      <td>5</td>\n",
       "    </tr>\n",
       "    <tr>\n",
       "      <th>116632</th>\n",
       "      <td>155.587500</td>\n",
       "      <td>797.88450</td>\n",
       "      <td>1.297430</td>\n",
       "      <td>0.015890</td>\n",
       "      <td>14.458245</td>\n",
       "      <td>tbbpa</td>\n",
       "      <td>5</td>\n",
       "    </tr>\n",
       "    <tr>\n",
       "      <th>116633</th>\n",
       "      <td>155.595800</td>\n",
       "      <td>797.92870</td>\n",
       "      <td>1.297572</td>\n",
       "      <td>0.015844</td>\n",
       "      <td>14.459828</td>\n",
       "      <td>tbbpa</td>\n",
       "      <td>5</td>\n",
       "    </tr>\n",
       "    <tr>\n",
       "      <th>116634</th>\n",
       "      <td>155.604200</td>\n",
       "      <td>797.97100</td>\n",
       "      <td>1.297616</td>\n",
       "      <td>0.015805</td>\n",
       "      <td>14.460318</td>\n",
       "      <td>tbbpa</td>\n",
       "      <td>5</td>\n",
       "    </tr>\n",
       "    <tr>\n",
       "      <th>116635</th>\n",
       "      <td>155.612500</td>\n",
       "      <td>798.01300</td>\n",
       "      <td>1.297571</td>\n",
       "      <td>0.015776</td>\n",
       "      <td>14.459816</td>\n",
       "      <td>tbbpa</td>\n",
       "      <td>5</td>\n",
       "    </tr>\n",
       "  </tbody>\n",
       "</table>\n",
       "<p>116636 rows × 7 columns</p>\n",
       "</div>"
      ],
      "text/plain": [
       "              time       temp        wt       dta       wt_pc compound  \\\n",
       "0         0.000933   21.32432  9.058288 -0.012645  100.000000     both   \n",
       "1         0.004167   21.32125  9.058359 -0.012647  100.000784     both   \n",
       "2         0.012500   21.32316  9.058353 -0.012646  100.000718     both   \n",
       "3         0.020833   21.32828  9.058349 -0.012643  100.000673     both   \n",
       "4         0.029167   21.33278  9.058361 -0.012640  100.000806     both   \n",
       "...            ...        ...       ...       ...         ...      ...   \n",
       "116631  155.579200  797.84160  1.297143  0.015931   14.455047    tbbpa   \n",
       "116632  155.587500  797.88450  1.297430  0.015890   14.458245    tbbpa   \n",
       "116633  155.595800  797.92870  1.297572  0.015844   14.459828    tbbpa   \n",
       "116634  155.604200  797.97100  1.297616  0.015805   14.460318    tbbpa   \n",
       "116635  155.612500  798.01300  1.297571  0.015776   14.459816    tbbpa   \n",
       "\n",
       "        condition  \n",
       "0              20  \n",
       "1              20  \n",
       "2              20  \n",
       "3              20  \n",
       "4              20  \n",
       "...           ...  \n",
       "116631          5  \n",
       "116632          5  \n",
       "116633          5  \n",
       "116634          5  \n",
       "116635          5  \n",
       "\n",
       "[116636 rows x 7 columns]"
      ]
     },
     "execution_count": 19,
     "metadata": {},
     "output_type": "execute_result"
    }
   ],
   "source": [
    "df"
   ]
  },
  {
   "cell_type": "markdown",
   "metadata": {},
   "source": [
    "## Test Train Split"
   ]
  },
  {
   "cell_type": "code",
   "execution_count": 4,
   "metadata": {},
   "outputs": [],
   "source": [
    "def test_train_compound(df, product):\n",
    "    \"\"\"\n",
    "    Function to split test/train data for each compound\n",
    "    \n",
    "    Argument:\n",
    "        df      : pandas dataframe\n",
    "        product : tbbpa, caoh2, both\n",
    "        \n",
    "    Output:\n",
    "        X_train, X_test, y_train, y_test : 4 pandas dataframe which have the split data \n",
    "    \"\"\"\n",
    "    df = df.query('compound == @product')\n",
    "    X_train, X_test, y_train, y_test = train_test_split(df[[\"time\", \"temp\", \"condition\" ]], df[\"wt\"], test_size=0.2, random_state=7)\n",
    "    return X_train, X_test, y_train, y_test"
   ]
  },
  {
   "cell_type": "markdown",
   "metadata": {},
   "source": [
    "## Modelling"
   ]
  },
  {
   "cell_type": "markdown",
   "metadata": {},
   "source": [
    "### Linear Modelling"
   ]
  },
  {
   "cell_type": "code",
   "execution_count": 51,
   "metadata": {},
   "outputs": [
    {
     "name": "stdout",
     "output_type": "stream",
     "text": [
      "The 4 matrices for -- tbbpa -- are of sizes:  (31132, 3) (7783, 3) (31132,) (7783,)\n",
      "The training accuracy for the model is  0.8241165411318243\n",
      "The testing accuracy for the model is  0.8177440908139991\n",
      "The 4 matrices for -- caoh2 -- are of sizes:  (31108, 3) (7778, 3) (31108,) (7778,)\n",
      "The training accuracy for the model is  0.8452718463394618\n",
      "The testing accuracy for the model is  0.8425280291844488\n",
      "The 4 matrices for -- both -- are of sizes:  (31068, 3) (7767, 3) (31068,) (7767,)\n",
      "The training accuracy for the model is  0.9282599428748095\n",
      "The testing accuracy for the model is  0.9281879293428571\n"
     ]
    }
   ],
   "source": [
    "def linear_model(df, product):\n",
    "    X_train, X_test, y_train, y_test = test_train_compound(df, product)\n",
    "    print(\"The 4 matrices for --\", product, \"-- are of sizes: \", X_train.shape, X_test.shape, y_train.shape, y_test.shape)\n",
    "    lr = LinearRegression().fit(X_train, y_train)\n",
    "    print(\"The training accuracy for the model is \", lr.score(X_train, y_train))\n",
    "    print(\"The testing accuracy for the model is \", lr.score(X_test, y_test))\n",
    "for i in df.compound.value_counts().index:\n",
    "    linear_model(df, i)"
   ]
  },
  {
   "cell_type": "markdown",
   "metadata": {},
   "source": [
    "## PSLR"
   ]
  },
  {
   "cell_type": "code",
   "execution_count": 41,
   "metadata": {},
   "outputs": [
    {
     "name": "stdout",
     "output_type": "stream",
     "text": [
      "The 4 matrices for -- tbbpa -- are of sizes:  (31132, 3) (7783, 3) (31132,) (7783,)\n",
      "The training accuracy for the model is  0.808475527775391\n",
      "The testing accuracy for the model is  0.8016810943526396\n",
      "The 4 matrices for -- caoh2 -- are of sizes:  (31108, 3) (7778, 3) (31108,) (7778,)\n",
      "The training accuracy for the model is  0.8302125090711834\n",
      "The testing accuracy for the model is  0.8278290375393507\n",
      "The 4 matrices for -- both -- are of sizes:  (31068, 3) (7767, 3) (31068,) (7767,)\n",
      "The training accuracy for the model is  0.9282182533145185\n",
      "The testing accuracy for the model is  0.9281210909373521\n"
     ]
    }
   ],
   "source": [
    "def pls2(df, product):\n",
    "    X_train, X_test, y_train, y_test = test_train_compound(df, product)\n",
    "    print(\"The 4 matrices for --\", product, \"-- are of sizes: \", X_train.shape, X_test.shape, y_train.shape, y_test.shape)\n",
    "    pls2 = PLSRegression(n_components=2).fit(X_train, y_train)\n",
    "    print(\"The training accuracy for the model is \", pls2.score(X_train, y_train))\n",
    "    print(\"The testing accuracy for the model is \", pls2.score(X_test, y_test))\n",
    "for i in df.compound.value_counts().index:\n",
    "    pls2(df, i)"
   ]
  },
  {
   "cell_type": "code",
   "execution_count": 36,
   "metadata": {},
   "outputs": [
    {
     "name": "stdout",
     "output_type": "stream",
     "text": [
      "The 4 matrices for -- tbbpa -- are of sizes:  (31132, 3) (7783, 3) (31132,) (7783,)\n",
      "The training accuracy for the model is  0.8241165411318243\n",
      "The testing accuracy for the model is  0.8177440908139991\n",
      "The 4 matrices for -- caoh2 -- are of sizes:  (31108, 3) (7778, 3) (31108,) (7778,)\n",
      "The training accuracy for the model is  0.845271846339462\n",
      "The testing accuracy for the model is  0.8425280291844488\n",
      "The 4 matrices for -- both -- are of sizes:  (31068, 3) (7767, 3) (31068,) (7767,)\n",
      "The training accuracy for the model is  0.9282599428748095\n",
      "The testing accuracy for the model is  0.9281879293428571\n"
     ]
    }
   ],
   "source": [
    "def pls3(df, product):\n",
    "    X_train, X_test, y_train, y_test = test_train_compound(df, product)\n",
    "    print(\"The 4 matrices for --\", product, \"-- are of sizes: \", X_train.shape, X_test.shape, y_train.shape, y_test.shape)\n",
    "    pls3 = PLSRegression(n_components=3).fit(X_train, y_train)\n",
    "    print(\"The training accuracy for the model is \", pls3.score(X_train, y_train))\n",
    "    print(\"The testing accuracy for the model is \", pls3.score(X_test, y_test))\n",
    "for i in df.compound.value_counts().index:\n",
    "    pls3(df, i)"
   ]
  },
  {
   "cell_type": "markdown",
   "metadata": {},
   "source": [
    "## Random Forest"
   ]
  },
  {
   "cell_type": "code",
   "execution_count": 5,
   "metadata": {},
   "outputs": [
    {
     "name": "stdout",
     "output_type": "stream",
     "text": [
      "The 4 matrices for -- tbbpa -- are of sizes:  (31132, 3) (7783, 3) (31132,) (7783,)\n",
      "The training accuracy for the model is  0.9999999548192982\n",
      "The testing accuracy for the model is  0.9999997232221379\n",
      "The 4 matrices for -- caoh2 -- are of sizes:  (31108, 3) (7778, 3) (31108,) (7778,)\n",
      "The training accuracy for the model is  0.9999999491732414\n",
      "The testing accuracy for the model is  0.9999997015847268\n",
      "The 4 matrices for -- both -- are of sizes:  (31068, 3) (7767, 3) (31068,) (7767,)\n",
      "The training accuracy for the model is  0.9999999756134385\n",
      "The testing accuracy for the model is  0.999999888633666\n"
     ]
    }
   ],
   "source": [
    "def random_forest(df, product):\n",
    "    X_train, X_test, y_train, y_test = test_train_compound(df, product)\n",
    "    print(\"The 4 matrices for --\", product, \"-- are of sizes: \", X_train.shape, X_test.shape, y_train.shape, y_test.shape)\n",
    "    rf = RandomForestRegressor(random_state=0).fit(X_train, y_train)\n",
    "    print(\"The training accuracy for the model is \", rf.score(X_train, y_train))\n",
    "    print(\"The testing accuracy for the model is \", rf.score(X_test, y_test))\n",
    "for i in df.compound.value_counts().index:\n",
    "    random_forest(df, i)"
   ]
  },
  {
   "cell_type": "code",
   "execution_count": null,
   "metadata": {},
   "outputs": [],
   "source": [
    "max_depth = range(1, 10)\n",
    "X_train, X_test, y_train, y_test = test_train_compound(df, \"tbbpa\")\n",
    "depth = []\n",
    "train_acc = []\n",
    "test_acc = []\n",
    "for i in max_depth:\n",
    "    depth.append(i)\n",
    "    rf = RandomForestRegressor(max_depth = i, random_state=0).fit(X_train, y_train)\n",
    "    train_acc.append(rf.score(X_train, y_train))\n",
    "    test_acc.append(rf.score(X_test, y_test))\n",
    "    print(i)\n",
    "df_rf = pd.DataFrame({'training' : train_acc,\n",
    "                      'testing' : test_acc,\n",
    "                      'max_depth' : depth})\n",
    "df_rf = df_rf.melt(id_vars = 'max_depth', var_name = 'Type', value_name = 'Accuracy')"
   ]
  },
  {
   "cell_type": "code",
   "execution_count": 86,
   "metadata": {},
   "outputs": [
    {
     "data": {
      "application/vnd.vegalite.v3+json": {
       "$schema": "https://vega.github.io/schema/vega-lite/v3.4.0.json",
       "config": {
        "mark": {
         "tooltip": null
        },
        "view": {
         "height": 300,
         "width": 400
        }
       },
       "data": {
        "name": "data-09de5eea806e3374ff5c8554bdb33507"
       },
       "datasets": {
        "data-09de5eea806e3374ff5c8554bdb33507": [
         {
          "Accuracy": 0.9407023560168518,
          "Type": "training",
          "max_depth": 1
         },
         {
          "Accuracy": 0.9780280072538393,
          "Type": "training",
          "max_depth": 2
         },
         {
          "Accuracy": 0.9881337304827227,
          "Type": "training",
          "max_depth": 3
         },
         {
          "Accuracy": 0.9936585824221296,
          "Type": "training",
          "max_depth": 4
         },
         {
          "Accuracy": 0.9983636581498302,
          "Type": "training",
          "max_depth": 5
         },
         {
          "Accuracy": 0.9992576686178172,
          "Type": "training",
          "max_depth": 6
         },
         {
          "Accuracy": 0.999642425296049,
          "Type": "training",
          "max_depth": 7
         },
         {
          "Accuracy": 0.9348823307196736,
          "Type": "testing",
          "max_depth": 1
         },
         {
          "Accuracy": 0.9761783563426378,
          "Type": "testing",
          "max_depth": 2
         },
         {
          "Accuracy": 0.9878837236496639,
          "Type": "testing",
          "max_depth": 3
         },
         {
          "Accuracy": 0.993635893716135,
          "Type": "testing",
          "max_depth": 4
         },
         {
          "Accuracy": 0.9983282720953466,
          "Type": "testing",
          "max_depth": 5
         },
         {
          "Accuracy": 0.9992263340079527,
          "Type": "testing",
          "max_depth": 6
         },
         {
          "Accuracy": 0.9996116352970404,
          "Type": "testing",
          "max_depth": 7
         }
        ]
       },
       "encoding": {
        "color": {
         "field": "Type",
         "type": "nominal"
        },
        "x": {
         "field": "max_depth",
         "type": "quantitative"
        },
        "y": {
         "field": "Accuracy",
         "scale": {
          "domain": [
           0.9,
           1
          ]
         },
         "type": "quantitative"
        }
       },
       "mark": "line"
      },
      "image/png": "[encoded data removed]",
      "text/plain": [
       "<VegaLite 3 object>\n",
       "\n",
       "If you see this message, it means the renderer has not been properly enabled\n",
       "for the frontend that you are using. For more information, see\n",
       "https://altair-viz.github.io/user_guide/troubleshooting.html\n"
      ]
     },
     "execution_count": 86,
     "metadata": {},
     "output_type": "execute_result"
    }
   ],
   "source": [
    "alt.Chart(df_rf.query(\"max_depth < 8\")).mark_line().encode(\n",
    "    alt.X('max_depth'),\n",
    "    alt.Y('Accuracy', scale=alt.Scale(domain=[0.9, 1])),\n",
    "    alt.Color('Type:N'))"
   ]
  },
  {
   "cell_type": "code",
   "execution_count": 31,
   "metadata": {},
   "outputs": [
    {
     "name": "stdout",
     "output_type": "stream",
     "text": [
      "1 1\n",
      "1 2\n",
      "1 3\n",
      "1 4\n",
      "1 5\n",
      "1 6\n",
      "1 7\n",
      "1 8\n",
      "1 9\n",
      "2 1\n",
      "2 2\n",
      "2 3\n",
      "2 4\n",
      "2 5\n",
      "2 6\n",
      "2 7\n",
      "2 8\n",
      "2 9\n",
      "3 1\n",
      "3 2\n",
      "3 3\n",
      "3 4\n",
      "3 5\n",
      "3 6\n",
      "3 7\n",
      "3 8\n",
      "3 9\n",
      "4 1\n",
      "4 2\n",
      "4 3\n",
      "4 4\n",
      "4 5\n",
      "4 6\n",
      "4 7\n",
      "4 8\n",
      "4 9\n",
      "5 1\n",
      "5 2\n",
      "5 3\n",
      "5 4\n",
      "5 5\n",
      "5 6\n",
      "5 7\n",
      "5 8\n",
      "5 9\n",
      "6 1\n",
      "6 2\n",
      "6 3\n",
      "6 4\n",
      "6 5\n",
      "6 6\n",
      "6 7\n",
      "6 8\n",
      "6 9\n",
      "7 1\n",
      "7 2\n",
      "7 3\n",
      "7 4\n",
      "7 5\n",
      "7 6\n",
      "7 7\n",
      "7 8\n",
      "7 9\n"
     ]
    },
    {
     "data": {
      "text/html": [
       "<div>\n",
       "<style scoped>\n",
       "    .dataframe tbody tr th:only-of-type {\n",
       "        vertical-align: middle;\n",
       "    }\n",
       "\n",
       "    .dataframe tbody tr th {\n",
       "        vertical-align: top;\n",
       "    }\n",
       "\n",
       "    .dataframe thead th {\n",
       "        text-align: right;\n",
       "    }\n",
       "</style>\n",
       "<table border=\"1\" class=\"dataframe\">\n",
       "  <thead>\n",
       "    <tr style=\"text-align: right;\">\n",
       "      <th></th>\n",
       "      <th>n_estimator</th>\n",
       "      <th>max_depth</th>\n",
       "      <th>Type</th>\n",
       "      <th>Accuracy</th>\n",
       "    </tr>\n",
       "  </thead>\n",
       "  <tbody>\n",
       "    <tr>\n",
       "      <th>0</th>\n",
       "      <td>1</td>\n",
       "      <td>1</td>\n",
       "      <td>training</td>\n",
       "      <td>0.936084</td>\n",
       "    </tr>\n",
       "    <tr>\n",
       "      <th>1</th>\n",
       "      <td>2</td>\n",
       "      <td>1</td>\n",
       "      <td>training</td>\n",
       "      <td>0.937275</td>\n",
       "    </tr>\n",
       "    <tr>\n",
       "      <th>2</th>\n",
       "      <td>3</td>\n",
       "      <td>1</td>\n",
       "      <td>training</td>\n",
       "      <td>0.937124</td>\n",
       "    </tr>\n",
       "    <tr>\n",
       "      <th>3</th>\n",
       "      <td>4</td>\n",
       "      <td>1</td>\n",
       "      <td>training</td>\n",
       "      <td>0.940069</td>\n",
       "    </tr>\n",
       "    <tr>\n",
       "      <th>4</th>\n",
       "      <td>5</td>\n",
       "      <td>1</td>\n",
       "      <td>training</td>\n",
       "      <td>0.939878</td>\n",
       "    </tr>\n",
       "    <tr>\n",
       "      <th>...</th>\n",
       "      <td>...</td>\n",
       "      <td>...</td>\n",
       "      <td>...</td>\n",
       "      <td>...</td>\n",
       "    </tr>\n",
       "    <tr>\n",
       "      <th>121</th>\n",
       "      <td>5</td>\n",
       "      <td>7</td>\n",
       "      <td>testing</td>\n",
       "      <td>0.999493</td>\n",
       "    </tr>\n",
       "    <tr>\n",
       "      <th>122</th>\n",
       "      <td>6</td>\n",
       "      <td>7</td>\n",
       "      <td>testing</td>\n",
       "      <td>0.999492</td>\n",
       "    </tr>\n",
       "    <tr>\n",
       "      <th>123</th>\n",
       "      <td>7</td>\n",
       "      <td>7</td>\n",
       "      <td>testing</td>\n",
       "      <td>0.999511</td>\n",
       "    </tr>\n",
       "    <tr>\n",
       "      <th>124</th>\n",
       "      <td>8</td>\n",
       "      <td>7</td>\n",
       "      <td>testing</td>\n",
       "      <td>0.999516</td>\n",
       "    </tr>\n",
       "    <tr>\n",
       "      <th>125</th>\n",
       "      <td>9</td>\n",
       "      <td>7</td>\n",
       "      <td>testing</td>\n",
       "      <td>0.999534</td>\n",
       "    </tr>\n",
       "  </tbody>\n",
       "</table>\n",
       "<p>126 rows × 4 columns</p>\n",
       "</div>"
      ],
      "text/plain": [
       "     n_estimator  max_depth      Type  Accuracy\n",
       "0              1          1  training  0.936084\n",
       "1              2          1  training  0.937275\n",
       "2              3          1  training  0.937124\n",
       "3              4          1  training  0.940069\n",
       "4              5          1  training  0.939878\n",
       "..           ...        ...       ...       ...\n",
       "121            5          7   testing  0.999493\n",
       "122            6          7   testing  0.999492\n",
       "123            7          7   testing  0.999511\n",
       "124            8          7   testing  0.999516\n",
       "125            9          7   testing  0.999534\n",
       "\n",
       "[126 rows x 4 columns]"
      ]
     },
     "execution_count": 31,
     "metadata": {},
     "output_type": "execute_result"
    }
   ],
   "source": [
    "n_est = range(1,10)\n",
    "max_depth = range(1,8)\n",
    "X_train, X_test, y_train, y_test = test_train_compound(df, \"tbbpa\")\n",
    "trees = []\n",
    "train_acc = []\n",
    "test_acc = []\n",
    "depth = []\n",
    "for j in max_depth:\n",
    "    for i in n_est:\n",
    "        trees.append(i)\n",
    "        depth.append(j)\n",
    "        rf = RandomForestRegressor(n_estimators = i, max_depth = j, random_state=0).fit(X_train, y_train)\n",
    "        train_acc.append(rf.score(X_train, y_train))\n",
    "        test_acc.append(rf.score(X_test, y_test))\n",
    "        print(j,i)\n",
    "df_rf = pd.DataFrame({'training' : train_acc,\n",
    "                      'testing' : test_acc,\n",
    "                      'n_estimator' : trees,\n",
    "                      'max_depth' : depth})\n",
    "df_rf = df_rf.melt(id_vars = ['n_estimator', 'max_depth'], var_name = 'Type', value_name = 'Accuracy')\n",
    "df_rf"
   ]
  },
  {
   "cell_type": "code",
   "execution_count": 32,
   "metadata": {},
   "outputs": [
    {
     "data": {
      "application/vnd.vegalite.v3+json": {
       "$schema": "https://vega.github.io/schema/vega-lite/v3.4.0.json",
       "columns": 3,
       "config": {
        "mark": {
         "tooltip": null
        },
        "view": {
         "height": 300,
         "width": 400
        }
       },
       "data": {
        "name": "data-ff78f3916c7d16fe2cd2c8446800c5d5"
       },
       "datasets": {
        "data-ff78f3916c7d16fe2cd2c8446800c5d5": [
         {
          "Accuracy": 0.9360843084288711,
          "Type": "training",
          "max_depth": 1,
          "n_estimator": 1
         },
         {
          "Accuracy": 0.9372751885153016,
          "Type": "training",
          "max_depth": 1,
          "n_estimator": 2
         },
         {
          "Accuracy": 0.9371239493405936,
          "Type": "training",
          "max_depth": 1,
          "n_estimator": 3
         },
         {
          "Accuracy": 0.9400691083878189,
          "Type": "training",
          "max_depth": 1,
          "n_estimator": 4
         },
         {
          "Accuracy": 0.9398775821938017,
          "Type": "training",
          "max_depth": 1,
          "n_estimator": 5
         },
         {
          "Accuracy": 0.9399725890799934,
          "Type": "training",
          "max_depth": 1,
          "n_estimator": 6
         },
         {
          "Accuracy": 0.9396865186180112,
          "Type": "training",
          "max_depth": 1,
          "n_estimator": 7
         },
         {
          "Accuracy": 0.9393981616304704,
          "Type": "training",
          "max_depth": 1,
          "n_estimator": 8
         },
         {
          "Accuracy": 0.9402596546498058,
          "Type": "training",
          "max_depth": 1,
          "n_estimator": 9
         },
         {
          "Accuracy": 0.9738430374844061,
          "Type": "training",
          "max_depth": 2,
          "n_estimator": 1
         },
         {
          "Accuracy": 0.9750507840263972,
          "Type": "training",
          "max_depth": 2,
          "n_estimator": 2
         },
         {
          "Accuracy": 0.9749401441336003,
          "Type": "training",
          "max_depth": 2,
          "n_estimator": 3
         },
         {
          "Accuracy": 0.9772254927927008,
          "Type": "training",
          "max_depth": 2,
          "n_estimator": 4
         },
         {
          "Accuracy": 0.9771995164259761,
          "Type": "training",
          "max_depth": 2,
          "n_estimator": 5
         },
         {
          "Accuracy": 0.9769868097827236,
          "Type": "training",
          "max_depth": 2,
          "n_estimator": 6
         },
         {
          "Accuracy": 0.9767297251872277,
          "Type": "training",
          "max_depth": 2,
          "n_estimator": 7
         },
         {
          "Accuracy": 0.9765299978597612,
          "Type": "training",
          "max_depth": 2,
          "n_estimator": 8
         },
         {
          "Accuracy": 0.9772516023900167,
          "Type": "training",
          "max_depth": 2,
          "n_estimator": 9
         },
         {
          "Accuracy": 0.9838390245992681,
          "Type": "training",
          "max_depth": 3,
          "n_estimator": 1
         },
         {
          "Accuracy": 0.9846517149976395,
          "Type": "training",
          "max_depth": 3,
          "n_estimator": 2
         },
         {
          "Accuracy": 0.9865913064688562,
          "Type": "training",
          "max_depth": 3,
          "n_estimator": 3
         },
         {
          "Accuracy": 0.9875276172555917,
          "Type": "training",
          "max_depth": 3,
          "n_estimator": 4
         },
         {
          "Accuracy": 0.9877102375100464,
          "Type": "training",
          "max_depth": 3,
          "n_estimator": 5
         },
         {
          "Accuracy": 0.9875708297660449,
          "Type": "training",
          "max_depth": 3,
          "n_estimator": 6
         },
         {
          "Accuracy": 0.9877483148064371,
          "Type": "training",
          "max_depth": 3,
          "n_estimator": 7
         },
         {
          "Accuracy": 0.9875829745380554,
          "Type": "training",
          "max_depth": 3,
          "n_estimator": 8
         },
         {
          "Accuracy": 0.9878536485986394,
          "Type": "training",
          "max_depth": 3,
          "n_estimator": 9
         },
         {
          "Accuracy": 0.9892646999260905,
          "Type": "training",
          "max_depth": 4,
          "n_estimator": 1
         },
         {
          "Accuracy": 0.9899844538584183,
          "Type": "training",
          "max_depth": 4,
          "n_estimator": 2
         },
         {
          "Accuracy": 0.9919366669240228,
          "Type": "training",
          "max_depth": 4,
          "n_estimator": 3
         },
         {
          "Accuracy": 0.9924270820056912,
          "Type": "training",
          "max_depth": 4,
          "n_estimator": 4
         },
         {
          "Accuracy": 0.9928143498049928,
          "Type": "training",
          "max_depth": 4,
          "n_estimator": 5
         },
         {
          "Accuracy": 0.9925812105618056,
          "Type": "training",
          "max_depth": 4,
          "n_estimator": 6
         },
         {
          "Accuracy": 0.9938118457552947,
          "Type": "training",
          "max_depth": 4,
          "n_estimator": 7
         },
         {
          "Accuracy": 0.9935327984661396,
          "Type": "training",
          "max_depth": 4,
          "n_estimator": 8
         },
         {
          "Accuracy": 0.9935374209493519,
          "Type": "training",
          "max_depth": 4,
          "n_estimator": 9
         },
         {
          "Accuracy": 0.9971459390312303,
          "Type": "training",
          "max_depth": 5,
          "n_estimator": 1
         },
         {
          "Accuracy": 0.9975034144241209,
          "Type": "training",
          "max_depth": 5,
          "n_estimator": 2
         },
         {
          "Accuracy": 0.9979918270006854,
          "Type": "training",
          "max_depth": 5,
          "n_estimator": 3
         },
         {
          "Accuracy": 0.9981236622908419,
          "Type": "training",
          "max_depth": 5,
          "n_estimator": 4
         },
         {
          "Accuracy": 0.9982473406140133,
          "Type": "training",
          "max_depth": 5,
          "n_estimator": 5
         },
         {
          "Accuracy": 0.9982589874106482,
          "Type": "training",
          "max_depth": 5,
          "n_estimator": 6
         },
         {
          "Accuracy": 0.9983483297820382,
          "Type": "training",
          "max_depth": 5,
          "n_estimator": 7
         },
         {
          "Accuracy": 0.9982982631828763,
          "Type": "training",
          "max_depth": 5,
          "n_estimator": 8
         },
         {
          "Accuracy": 0.998354564653993,
          "Type": "training",
          "max_depth": 5,
          "n_estimator": 9
         },
         {
          "Accuracy": 0.9985247806491347,
          "Type": "training",
          "max_depth": 6,
          "n_estimator": 1
         },
         {
          "Accuracy": 0.998825892134105,
          "Type": "training",
          "max_depth": 6,
          "n_estimator": 2
         },
         {
          "Accuracy": 0.9990281422905263,
          "Type": "training",
          "max_depth": 6,
          "n_estimator": 3
         },
         {
          "Accuracy": 0.9991227160534003,
          "Type": "training",
          "max_depth": 6,
          "n_estimator": 4
         },
         {
          "Accuracy": 0.9991567868709194,
          "Type": "training",
          "max_depth": 6,
          "n_estimator": 5
         },
         {
          "Accuracy": 0.9991540869103231,
          "Type": "training",
          "max_depth": 6,
          "n_estimator": 6
         },
         {
          "Accuracy": 0.999185765279626,
          "Type": "training",
          "max_depth": 6,
          "n_estimator": 7
         },
         {
          "Accuracy": 0.999180635815551,
          "Type": "training",
          "max_depth": 6,
          "n_estimator": 8
         },
         {
          "Accuracy": 0.999207560544716,
          "Type": "training",
          "max_depth": 6,
          "n_estimator": 9
         },
         {
          "Accuracy": 0.999164624294044,
          "Type": "training",
          "max_depth": 7,
          "n_estimator": 1
         },
         {
          "Accuracy": 0.9993940018181143,
          "Type": "training",
          "max_depth": 7,
          "n_estimator": 2
         },
         {
          "Accuracy": 0.9994891928595375,
          "Type": "training",
          "max_depth": 7,
          "n_estimator": 3
         },
         {
          "Accuracy": 0.9995315014270706,
          "Type": "training",
          "max_depth": 7,
          "n_estimator": 4
         },
         {
          "Accuracy": 0.9995482242319115,
          "Type": "training",
          "max_depth": 7,
          "n_estimator": 5
         },
         {
          "Accuracy": 0.9995451125055992,
          "Type": "training",
          "max_depth": 7,
          "n_estimator": 6
         },
         {
          "Accuracy": 0.999563226092289,
          "Type": "training",
          "max_depth": 7,
          "n_estimator": 7
         },
         {
          "Accuracy": 0.9995659409210604,
          "Type": "training",
          "max_depth": 7,
          "n_estimator": 8
         },
         {
          "Accuracy": 0.9995799300547699,
          "Type": "training",
          "max_depth": 7,
          "n_estimator": 9
         },
         {
          "Accuracy": 0.930302866908508,
          "Type": "testing",
          "max_depth": 1,
          "n_estimator": 1
         },
         {
          "Accuracy": 0.9310087524472039,
          "Type": "testing",
          "max_depth": 1,
          "n_estimator": 2
         },
         {
          "Accuracy": 0.9309845146814119,
          "Type": "testing",
          "max_depth": 1,
          "n_estimator": 3
         },
         {
          "Accuracy": 0.9336230477939722,
          "Type": "testing",
          "max_depth": 1,
          "n_estimator": 4
         },
         {
          "Accuracy": 0.9335517495879012,
          "Type": "testing",
          "max_depth": 1,
          "n_estimator": 5
         },
         {
          "Accuracy": 0.9342573732742481,
          "Type": "testing",
          "max_depth": 1,
          "n_estimator": 6
         },
         {
          "Accuracy": 0.9339272951299636,
          "Type": "testing",
          "max_depth": 1,
          "n_estimator": 7
         },
         {
          "Accuracy": 0.9336542438045539,
          "Type": "testing",
          "max_depth": 1,
          "n_estimator": 8
         },
         {
          "Accuracy": 0.9343708030616857,
          "Type": "testing",
          "max_depth": 1,
          "n_estimator": 9
         },
         {
          "Accuracy": 0.9723576880809165,
          "Type": "testing",
          "max_depth": 2,
          "n_estimator": 1
         },
         {
          "Accuracy": 0.9732168967685856,
          "Type": "testing",
          "max_depth": 2,
          "n_estimator": 2
         },
         {
          "Accuracy": 0.9731909205732796,
          "Type": "testing",
          "max_depth": 2,
          "n_estimator": 3
         },
         {
          "Accuracy": 0.9752394285104229,
          "Type": "testing",
          "max_depth": 2,
          "n_estimator": 4
         },
         {
          "Accuracy": 0.975268600614405,
          "Type": "testing",
          "max_depth": 2,
          "n_estimator": 5
         },
         {
          "Accuracy": 0.9751116999225304,
          "Type": "testing",
          "max_depth": 2,
          "n_estimator": 6
         },
         {
          "Accuracy": 0.9748839609148726,
          "Type": "testing",
          "max_depth": 2,
          "n_estimator": 7
         },
         {
          "Accuracy": 0.9747155729444337,
          "Type": "testing",
          "max_depth": 2,
          "n_estimator": 8
         },
         {
          "Accuracy": 0.9753416236855326,
          "Type": "testing",
          "max_depth": 2,
          "n_estimator": 9
         },
         {
          "Accuracy": 0.9843868850305469,
          "Type": "testing",
          "max_depth": 3,
          "n_estimator": 1
         },
         {
          "Accuracy": 0.9850580368675229,
          "Type": "testing",
          "max_depth": 3,
          "n_estimator": 2
         },
         {
          "Accuracy": 0.9866959189369546,
          "Type": "testing",
          "max_depth": 3,
          "n_estimator": 3
         },
         {
          "Accuracy": 0.9873745501921252,
          "Type": "testing",
          "max_depth": 3,
          "n_estimator": 4
         },
         {
          "Accuracy": 0.9874081677540484,
          "Type": "testing",
          "max_depth": 3,
          "n_estimator": 5
         },
         {
          "Accuracy": 0.9874116135221351,
          "Type": "testing",
          "max_depth": 3,
          "n_estimator": 6
         },
         {
          "Accuracy": 0.9875228908639339,
          "Type": "testing",
          "max_depth": 3,
          "n_estimator": 7
         },
         {
          "Accuracy": 0.987472804696343,
          "Type": "testing",
          "max_depth": 3,
          "n_estimator": 8
         },
         {
          "Accuracy": 0.9876833104888239,
          "Type": "testing",
          "max_depth": 3,
          "n_estimator": 9
         },
         {
          "Accuracy": 0.989547555335323,
          "Type": "testing",
          "max_depth": 4,
          "n_estimator": 1
         },
         {
          "Accuracy": 0.9902006967772038,
          "Type": "testing",
          "max_depth": 4,
          "n_estimator": 2
         },
         {
          "Accuracy": 0.9920454514510589,
          "Type": "testing",
          "max_depth": 4,
          "n_estimator": 3
         },
         {
          "Accuracy": 0.9924489647348752,
          "Type": "testing",
          "max_depth": 4,
          "n_estimator": 4
         },
         {
          "Accuracy": 0.9927816829966426,
          "Type": "testing",
          "max_depth": 4,
          "n_estimator": 5
         },
         {
          "Accuracy": 0.9926039153909998,
          "Type": "testing",
          "max_depth": 4,
          "n_estimator": 6
         },
         {
          "Accuracy": 0.993797679906018,
          "Type": "testing",
          "max_depth": 4,
          "n_estimator": 7
         },
         {
          "Accuracy": 0.99355933230631,
          "Type": "testing",
          "max_depth": 4,
          "n_estimator": 8
         },
         {
          "Accuracy": 0.9935484186744555,
          "Type": "testing",
          "max_depth": 4,
          "n_estimator": 9
         },
         {
          "Accuracy": 0.9971511784566245,
          "Type": "testing",
          "max_depth": 5,
          "n_estimator": 1
         },
         {
          "Accuracy": 0.9974975064130343,
          "Type": "testing",
          "max_depth": 5,
          "n_estimator": 2
         },
         {
          "Accuracy": 0.9979701330388866,
          "Type": "testing",
          "max_depth": 5,
          "n_estimator": 3
         },
         {
          "Accuracy": 0.998066417079079,
          "Type": "testing",
          "max_depth": 5,
          "n_estimator": 4
         },
         {
          "Accuracy": 0.9981866368758598,
          "Type": "testing",
          "max_depth": 5,
          "n_estimator": 5
         },
         {
          "Accuracy": 0.9982300433610688,
          "Type": "testing",
          "max_depth": 5,
          "n_estimator": 6
         },
         {
          "Accuracy": 0.9983048929289996,
          "Type": "testing",
          "max_depth": 5,
          "n_estimator": 7
         },
         {
          "Accuracy": 0.9982575003453743,
          "Type": "testing",
          "max_depth": 5,
          "n_estimator": 8
         },
         {
          "Accuracy": 0.9983117856617111,
          "Type": "testing",
          "max_depth": 5,
          "n_estimator": 9
         },
         {
          "Accuracy": 0.9985209814442769,
          "Type": "testing",
          "max_depth": 6,
          "n_estimator": 1
         },
         {
          "Accuracy": 0.9987994962265468,
          "Type": "testing",
          "max_depth": 6,
          "n_estimator": 2
         },
         {
          "Accuracy": 0.9989752555435732,
          "Type": "testing",
          "max_depth": 6,
          "n_estimator": 3
         },
         {
          "Accuracy": 0.9990615012377526,
          "Type": "testing",
          "max_depth": 6,
          "n_estimator": 4
         },
         {
          "Accuracy": 0.9990957022918345,
          "Type": "testing",
          "max_depth": 6,
          "n_estimator": 5
         },
         {
          "Accuracy": 0.9991009114483691,
          "Type": "testing",
          "max_depth": 6,
          "n_estimator": 6
         },
         {
          "Accuracy": 0.9991336143534802,
          "Type": "testing",
          "max_depth": 6,
          "n_estimator": 7
         },
         {
          "Accuracy": 0.9991350689962694,
          "Type": "testing",
          "max_depth": 6,
          "n_estimator": 8
         },
         {
          "Accuracy": 0.999162864840133,
          "Type": "testing",
          "max_depth": 6,
          "n_estimator": 9
         },
         {
          "Accuracy": 0.9991055192860141,
          "Type": "testing",
          "max_depth": 7,
          "n_estimator": 1
         },
         {
          "Accuracy": 0.9993185412421922,
          "Type": "testing",
          "max_depth": 7,
          "n_estimator": 2
         },
         {
          "Accuracy": 0.9994158552759853,
          "Type": "testing",
          "max_depth": 7,
          "n_estimator": 3
         },
         {
          "Accuracy": 0.9994763396048363,
          "Type": "testing",
          "max_depth": 7,
          "n_estimator": 4
         },
         {
          "Accuracy": 0.9994929476830344,
          "Type": "testing",
          "max_depth": 7,
          "n_estimator": 5
         },
         {
          "Accuracy": 0.9994916171900643,
          "Type": "testing",
          "max_depth": 7,
          "n_estimator": 6
         },
         {
          "Accuracy": 0.999510942934368,
          "Type": "testing",
          "max_depth": 7,
          "n_estimator": 7
         },
         {
          "Accuracy": 0.9995163398982956,
          "Type": "testing",
          "max_depth": 7,
          "n_estimator": 8
         },
         {
          "Accuracy": 0.9995336310195093,
          "Type": "testing",
          "max_depth": 7,
          "n_estimator": 9
         }
        ]
       },
       "encoding": {
        "color": {
         "field": "Type",
         "type": "nominal"
        },
        "facet": {
         "field": "n_estimator",
         "type": "quantitative"
        },
        "x": {
         "field": "max_depth",
         "type": "quantitative"
        },
        "y": {
         "field": "Accuracy",
         "scale": {
          "domain": [
           0.92,
           1
          ]
         },
         "type": "quantitative"
        }
       },
       "height": 200,
       "mark": "line",
       "width": 200
      },
      "image/png": "[encoded data removed]",
      "text/plain": [
       "<VegaLite 3 object>\n",
       "\n",
       "If you see this message, it means the renderer has not been properly enabled\n",
       "for the frontend that you are using. For more information, see\n",
       "https://altair-viz.github.io/user_guide/troubleshooting.html\n"
      ]
     },
     "execution_count": 32,
     "metadata": {},
     "output_type": "execute_result"
    }
   ],
   "source": [
    "alt.Chart(df_rf).mark_line().encode(\n",
    "    alt.X('max_depth'),\n",
    "    alt.Y('Accuracy', scale=alt.Scale(domain=[0.92, 1])),\n",
    "    alt.Color('Type'),\n",
    "    alt.Facet('n_estimator')\n",
    "    ).properties(width = 200, height = 200, columns = 3)"
   ]
  },
  {
   "cell_type": "markdown",
   "metadata": {},
   "source": [
    "## Support Vector Regression"
   ]
  },
  {
   "cell_type": "code",
   "execution_count": 7,
   "metadata": {},
   "outputs": [
    {
     "name": "stdout",
     "output_type": "stream",
     "text": [
      "The 4 matrices for -- tbbpa -- are of sizes:  (31132, 3) (7783, 3) (31132,) (7783,)\n",
      "The training accuracy for the model is  0.999092342646466\n",
      "The testing accuracy for the model is  0.9990811126548853\n",
      "The 4 matrices for -- caoh2 -- are of sizes:  (31108, 3) (7778, 3) (31108,) (7778,)\n",
      "The training accuracy for the model is  0.9909938201261017\n",
      "The testing accuracy for the model is  0.9909521849112124\n",
      "The 4 matrices for -- both -- are of sizes:  (31068, 3) (7767, 3) (31068,) (7767,)\n",
      "The training accuracy for the model is  0.9947589263560653\n",
      "The testing accuracy for the model is  0.9947807740739544\n"
     ]
    }
   ],
   "source": [
    "def fn_svr_rbf(df, product):\n",
    "    X_train, X_test, y_train, y_test = test_train_compound(df, product)\n",
    "    print(\"The 4 matrices for --\", product, \"-- are of sizes: \", X_train.shape, X_test.shape, y_train.shape, y_test.shape)\n",
    "    svr_rbf = SVR(kernel=\"rbf\", C=100, gamma=0.1, epsilon=0.1).fit(X_train, y_train)\n",
    "    print(\"The training accuracy for the model is \", svr_rbf.score(X_train, y_train))\n",
    "    print(\"The testing accuracy for the model is \", svr_rbf.score(X_test, y_test))\n",
    "for i in df.compound.value_counts().index:\n",
    "    fn_svr_rbf(df, i)"
   ]
  },
  {
   "cell_type": "code",
   "execution_count": null,
   "metadata": {},
   "outputs": [
    {
     "name": "stdout",
     "output_type": "stream",
     "text": [
      "The 4 matrices for -- tbbpa -- are of sizes:  (31132, 3) (7783, 3) (31132,) (7783,)\n"
     ]
    }
   ],
   "source": [
    "# def fn_svr_lin(df, product):\n",
    "#     X_train, X_test, y_train, y_test = test_train_compound(df, product)\n",
    "#     print(\"The 4 matrices for --\", product, \"-- are of sizes: \", X_train.shape, X_test.shape, y_train.shape, y_test.shape)\n",
    "#     svr_lin = SVR(kernel=\"linear\", C=100, gamma=\"auto\").fit(X_train, y_train)\n",
    "#     print(\"The training accuracy for the model is \", svr_lin.score(X_train, y_train))\n",
    "#     print(\"The testing accuracy for the model is \", svr_lin.score(X_test, y_test))\n",
    "# for i in df.compound.value_counts().index:\n",
    "#     fn_svr_lin(df, i)"
   ]
  },
  {
   "cell_type": "markdown",
   "metadata": {},
   "source": [
    "Random forest regression has shown best results so far"
   ]
  },
  {
   "cell_type": "markdown",
   "metadata": {},
   "source": [
    "## Outputs"
   ]
  },
  {
   "cell_type": "markdown",
   "metadata": {},
   "source": [
    "### RF - tbbpa"
   ]
  },
  {
   "cell_type": "code",
   "execution_count": 44,
   "metadata": {},
   "outputs": [
    {
     "name": "stdout",
     "output_type": "stream",
     "text": [
      "The training accuracy for the model is  0.9999999548192982\n",
      "The testing accuracy for the model is  0.9999997232221379\n"
     ]
    }
   ],
   "source": [
    "X_train, X_test, y_train, y_test = test_train_compound(df, 'tbbpa')\n",
    "rf = RandomForestRegressor(random_state=0).fit(X_train, y_train)\n",
    "print(\"The training accuracy for the model is \", rf.score(X_train, y_train))\n",
    "print(\"The testing accuracy for the model is \", rf.score(X_test, y_test))\n",
    "\n",
    "df_tbbpa = df.query(\"compound == 'tbbpa'\").copy()\n",
    "df_tbbpa['predicted_wt'] = rf.predict(df.query(\"compound == 'tbbpa'\")[[\"time\", \"temp\", \"condition\" ]])\n",
    "df_tbbpa.to_csv('output/prediction_rf_tbbpa.csv')"
   ]
  },
  {
   "cell_type": "markdown",
   "metadata": {},
   "source": [
    "### RF - caoh2"
   ]
  },
  {
   "cell_type": "code",
   "execution_count": 46,
   "metadata": {},
   "outputs": [
    {
     "name": "stdout",
     "output_type": "stream",
     "text": [
      "The training accuracy for the model is  0.9999999491732414\n",
      "The testing accuracy for the model is  0.9999997015847268\n"
     ]
    }
   ],
   "source": [
    "X_train, X_test, y_train, y_test = test_train_compound(df, 'caoh2')\n",
    "rf = RandomForestRegressor(random_state=0).fit(X_train, y_train)\n",
    "print(\"The training accuracy for the model is \", rf.score(X_train, y_train))\n",
    "print(\"The testing accuracy for the model is \", rf.score(X_test, y_test))\n",
    "\n",
    "df_caoh2 = df.query(\"compound == 'caoh2'\").copy()\n",
    "df_caoh2['predicted_wt'] = rf.predict(df.query(\"compound == 'caoh2'\")[[\"time\", \"temp\", \"condition\" ]])\n",
    "df_caoh2.to_csv('output/prediction_rf_caoh2.csv')"
   ]
  },
  {
   "cell_type": "markdown",
   "metadata": {},
   "source": [
    "### RF - both"
   ]
  },
  {
   "cell_type": "code",
   "execution_count": 47,
   "metadata": {},
   "outputs": [
    {
     "name": "stdout",
     "output_type": "stream",
     "text": [
      "The training accuracy for the model is  0.9999999756134385\n",
      "The testing accuracy for the model is  0.999999888633666\n"
     ]
    }
   ],
   "source": [
    "X_train, X_test, y_train, y_test = test_train_compound(df, 'both')\n",
    "rf = RandomForestRegressor(random_state=0).fit(X_train, y_train)\n",
    "print(\"The training accuracy for the model is \", rf.score(X_train, y_train))\n",
    "print(\"The testing accuracy for the model is \", rf.score(X_test, y_test))\n",
    "\n",
    "df_both = df.query(\"compound == 'both'\").copy()\n",
    "df_both['predicted_wt'] = rf.predict(df.query(\"compound == 'both'\")[[\"time\", \"temp\", \"condition\" ]])\n",
    "df_both.to_csv('output/prediction_rf_both.csv')"
   ]
  },
  {
   "cell_type": "markdown",
   "metadata": {},
   "source": [
    "### LR - tbbpa"
   ]
  },
  {
   "cell_type": "code",
   "execution_count": 48,
   "metadata": {},
   "outputs": [
    {
     "name": "stdout",
     "output_type": "stream",
     "text": [
      "The training accuracy for the model is  0.8241165411318243\n",
      "The testing accuracy for the model is  0.8177440908139991\n"
     ]
    }
   ],
   "source": [
    "X_train, X_test, y_train, y_test = test_train_compound(df, 'tbbpa')\n",
    "lr = LinearRegression().fit(X_train, y_train)\n",
    "print(\"The training accuracy for the model is \", lr.score(X_train, y_train))\n",
    "print(\"The testing accuracy for the model is \", lr.score(X_test, y_test))\n",
    "\n",
    "df_tbbpa = df.query(\"compound == 'tbbpa'\").copy()\n",
    "df_tbbpa['predicted_wt'] = lr.predict(df.query(\"compound == 'tbbpa'\")[[\"time\", \"temp\", \"condition\" ]])\n",
    "df_tbbpa.to_csv('output/prediction_lr_tbbpa.csv')"
   ]
  },
  {
   "cell_type": "markdown",
   "metadata": {},
   "source": [
    "### LR - caoh2"
   ]
  },
  {
   "cell_type": "code",
   "execution_count": 49,
   "metadata": {},
   "outputs": [
    {
     "name": "stdout",
     "output_type": "stream",
     "text": [
      "The training accuracy for the model is  0.8452718463394618\n",
      "The testing accuracy for the model is  0.8425280291844488\n"
     ]
    }
   ],
   "source": [
    "X_train, X_test, y_train, y_test = test_train_compound(df, 'caoh2')\n",
    "lr = LinearRegression().fit(X_train, y_train)\n",
    "print(\"The training accuracy for the model is \", lr.score(X_train, y_train))\n",
    "print(\"The testing accuracy for the model is \", lr.score(X_test, y_test))\n",
    "\n",
    "df_caoh2 = df.query(\"compound == 'caoh2'\").copy()\n",
    "df_caoh2['predicted_wt'] = lr.predict(df.query(\"compound == 'caoh2'\")[[\"time\", \"temp\", \"condition\" ]])\n",
    "df_caoh2.to_csv('output/prediction_lr_caoh2.csv')"
   ]
  },
  {
   "cell_type": "markdown",
   "metadata": {},
   "source": [
    "### LR - both"
   ]
  },
  {
   "cell_type": "code",
   "execution_count": 50,
   "metadata": {},
   "outputs": [
    {
     "name": "stdout",
     "output_type": "stream",
     "text": [
      "The training accuracy for the model is  0.9282599428748095\n",
      "The testing accuracy for the model is  0.9281879293428571\n"
     ]
    }
   ],
   "source": [
    "X_train, X_test, y_train, y_test = test_train_compound(df, 'both')\n",
    "lr = LinearRegression().fit(X_train, y_train)\n",
    "print(\"The training accuracy for the model is \", lr.score(X_train, y_train))\n",
    "print(\"The testing accuracy for the model is \", lr.score(X_test, y_test))\n",
    "\n",
    "df_both = df.query(\"compound == 'both'\").copy()\n",
    "df_both['predicted_wt'] = lr.predict(df.query(\"compound == 'both'\")[[\"time\", \"temp\", \"condition\" ]])\n",
    "df_both.to_csv('output/prediction_lr_both.csv')"
   ]
  },
  {
   "cell_type": "markdown",
   "metadata": {},
   "source": [
    "### SVR - tbbpa"
   ]
  },
  {
   "cell_type": "code",
   "execution_count": 8,
   "metadata": {},
   "outputs": [
    {
     "name": "stdout",
     "output_type": "stream",
     "text": [
      "The training accuracy for the model is  0.999092342646466\n",
      "The testing accuracy for the model is  0.9990811126548853\n"
     ]
    }
   ],
   "source": [
    "X_train, X_test, y_train, y_test = test_train_compound(df, 'tbbpa')\n",
    "svr_rbf = SVR(kernel=\"rbf\", C=100, gamma=0.1, epsilon=0.1).fit(X_train, y_train)\n",
    "print(\"The training accuracy for the model is \", svr_rbf.score(X_train, y_train))\n",
    "print(\"The testing accuracy for the model is \", svr_rbf.score(X_test, y_test))\n",
    "\n",
    "df_tbbpa = df.query(\"compound == 'tbbpa'\").copy()\n",
    "df_tbbpa['predicted_wt'] = svr_rbf.predict(df.query(\"compound == 'tbbpa'\")[[\"time\", \"temp\", \"condition\" ]])\n",
    "df_tbbpa.to_csv('output/prediction_svr-rbf_tbbpa.csv')"
   ]
  },
  {
   "cell_type": "markdown",
   "metadata": {},
   "source": [
    "### SVR - caoh2"
   ]
  },
  {
   "cell_type": "code",
   "execution_count": 9,
   "metadata": {},
   "outputs": [
    {
     "name": "stdout",
     "output_type": "stream",
     "text": [
      "The training accuracy for the model is  0.9909938201261017\n",
      "The testing accuracy for the model is  0.9909521849112124\n"
     ]
    }
   ],
   "source": [
    "X_train, X_test, y_train, y_test = test_train_compound(df, 'caoh2')\n",
    "svr_rbf = SVR(kernel=\"rbf\", C=100, gamma=0.1, epsilon=0.1).fit(X_train, y_train)\n",
    "print(\"The training accuracy for the model is \", svr_rbf.score(X_train, y_train))\n",
    "print(\"The testing accuracy for the model is \", svr_rbf.score(X_test, y_test))\n",
    "\n",
    "df_caoh2 = df.query(\"compound == 'caoh2'\").copy()\n",
    "df_caoh2['predicted_wt'] = svr_rbf.predict(df.query(\"compound == 'caoh2'\")[[\"time\", \"temp\", \"condition\" ]])\n",
    "df_caoh2.to_csv('output/prediction_svr-rbf_caoh2.csv')"
   ]
  },
  {
   "cell_type": "markdown",
   "metadata": {},
   "source": [
    "### SVR - both"
   ]
  },
  {
   "cell_type": "code",
   "execution_count": 10,
   "metadata": {},
   "outputs": [
    {
     "name": "stdout",
     "output_type": "stream",
     "text": [
      "The training accuracy for the model is  0.9947589263560653\n",
      "The testing accuracy for the model is  0.9947807740739544\n"
     ]
    }
   ],
   "source": [
    "X_train, X_test, y_train, y_test = test_train_compound(df, 'both')\n",
    "svr_rbf = SVR(kernel=\"rbf\", C=100, gamma=0.1, epsilon=0.1).fit(X_train, y_train)\n",
    "print(\"The training accuracy for the model is \", svr_rbf.score(X_train, y_train))\n",
    "print(\"The testing accuracy for the model is \", svr_rbf.score(X_test, y_test))\n",
    "\n",
    "df_both = df.query(\"compound == 'both'\").copy()\n",
    "df_both['predicted_wt'] = svr_rbf.predict(df.query(\"compound == 'both'\")[[\"time\", \"temp\", \"condition\" ]])\n",
    "df_both.to_csv('output/prediction_svr-rbf_both.csv')"
   ]
  },
  {
   "cell_type": "code",
   "execution_count": null,
   "metadata": {},
   "outputs": [],
   "source": []
  }
 ],
 "metadata": {
  "kernelspec": {
   "display_name": "Python 3",
   "language": "python",
   "name": "python3"
  },
  "language_info": {
   "codemirror_mode": {
    "name": "ipython",
    "version": 3
   },
   "file_extension": ".py",
   "mimetype": "text/x-python",
   "name": "python",
   "nbconvert_exporter": "python",
   "pygments_lexer": "ipython3",
   "version": "3.7.6"
  }
 },
 "nbformat": 4,
 "nbformat_minor": 4
}

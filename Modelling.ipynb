{
 "cells": [
  {
   "cell_type": "code",
   "execution_count": 16,
   "metadata": {},
   "outputs": [],
   "source": [
    "import pandas as pd\n",
    "from sklearn.model_selection import train_test_split\n",
    "from sklearn.linear_model import LinearRegression"
   ]
  },
  {
   "cell_type": "code",
   "execution_count": 12,
   "metadata": {},
   "outputs": [
    {
     "data": {
      "text/html": [
       "<div>\n",
       "<style scoped>\n",
       "    .dataframe tbody tr th:only-of-type {\n",
       "        vertical-align: middle;\n",
       "    }\n",
       "\n",
       "    .dataframe tbody tr th {\n",
       "        vertical-align: top;\n",
       "    }\n",
       "\n",
       "    .dataframe thead th {\n",
       "        text-align: right;\n",
       "    }\n",
       "</style>\n",
       "<table border=\"1\" class=\"dataframe\">\n",
       "  <thead>\n",
       "    <tr style=\"text-align: right;\">\n",
       "      <th></th>\n",
       "      <th>time</th>\n",
       "      <th>temp</th>\n",
       "      <th>wt</th>\n",
       "      <th>dta</th>\n",
       "      <th>wt_pc</th>\n",
       "      <th>compound</th>\n",
       "      <th>condition</th>\n",
       "    </tr>\n",
       "  </thead>\n",
       "  <tbody>\n",
       "    <tr>\n",
       "      <th>0</th>\n",
       "      <td>0.000933</td>\n",
       "      <td>21.32432</td>\n",
       "      <td>9.058288</td>\n",
       "      <td>-0.012645</td>\n",
       "      <td>100.000000</td>\n",
       "      <td>both</td>\n",
       "      <td>20</td>\n",
       "    </tr>\n",
       "    <tr>\n",
       "      <th>1</th>\n",
       "      <td>0.004167</td>\n",
       "      <td>21.32125</td>\n",
       "      <td>9.058359</td>\n",
       "      <td>-0.012647</td>\n",
       "      <td>100.000784</td>\n",
       "      <td>both</td>\n",
       "      <td>20</td>\n",
       "    </tr>\n",
       "    <tr>\n",
       "      <th>2</th>\n",
       "      <td>0.012500</td>\n",
       "      <td>21.32316</td>\n",
       "      <td>9.058353</td>\n",
       "      <td>-0.012646</td>\n",
       "      <td>100.000718</td>\n",
       "      <td>both</td>\n",
       "      <td>20</td>\n",
       "    </tr>\n",
       "    <tr>\n",
       "      <th>3</th>\n",
       "      <td>0.020833</td>\n",
       "      <td>21.32828</td>\n",
       "      <td>9.058349</td>\n",
       "      <td>-0.012643</td>\n",
       "      <td>100.000673</td>\n",
       "      <td>both</td>\n",
       "      <td>20</td>\n",
       "    </tr>\n",
       "    <tr>\n",
       "      <th>4</th>\n",
       "      <td>0.029167</td>\n",
       "      <td>21.33278</td>\n",
       "      <td>9.058361</td>\n",
       "      <td>-0.012640</td>\n",
       "      <td>100.000806</td>\n",
       "      <td>both</td>\n",
       "      <td>20</td>\n",
       "    </tr>\n",
       "    <tr>\n",
       "      <th>...</th>\n",
       "      <td>...</td>\n",
       "      <td>...</td>\n",
       "      <td>...</td>\n",
       "      <td>...</td>\n",
       "      <td>...</td>\n",
       "      <td>...</td>\n",
       "      <td>...</td>\n",
       "    </tr>\n",
       "    <tr>\n",
       "      <th>116631</th>\n",
       "      <td>155.579200</td>\n",
       "      <td>797.84160</td>\n",
       "      <td>1.297143</td>\n",
       "      <td>0.015931</td>\n",
       "      <td>14.455047</td>\n",
       "      <td>tbbpa</td>\n",
       "      <td>5</td>\n",
       "    </tr>\n",
       "    <tr>\n",
       "      <th>116632</th>\n",
       "      <td>155.587500</td>\n",
       "      <td>797.88450</td>\n",
       "      <td>1.297430</td>\n",
       "      <td>0.015890</td>\n",
       "      <td>14.458245</td>\n",
       "      <td>tbbpa</td>\n",
       "      <td>5</td>\n",
       "    </tr>\n",
       "    <tr>\n",
       "      <th>116633</th>\n",
       "      <td>155.595800</td>\n",
       "      <td>797.92870</td>\n",
       "      <td>1.297572</td>\n",
       "      <td>0.015844</td>\n",
       "      <td>14.459828</td>\n",
       "      <td>tbbpa</td>\n",
       "      <td>5</td>\n",
       "    </tr>\n",
       "    <tr>\n",
       "      <th>116634</th>\n",
       "      <td>155.604200</td>\n",
       "      <td>797.97100</td>\n",
       "      <td>1.297616</td>\n",
       "      <td>0.015805</td>\n",
       "      <td>14.460318</td>\n",
       "      <td>tbbpa</td>\n",
       "      <td>5</td>\n",
       "    </tr>\n",
       "    <tr>\n",
       "      <th>116635</th>\n",
       "      <td>155.612500</td>\n",
       "      <td>798.01300</td>\n",
       "      <td>1.297571</td>\n",
       "      <td>0.015776</td>\n",
       "      <td>14.459816</td>\n",
       "      <td>tbbpa</td>\n",
       "      <td>5</td>\n",
       "    </tr>\n",
       "  </tbody>\n",
       "</table>\n",
       "<p>116636 rows × 7 columns</p>\n",
       "</div>"
      ],
      "text/plain": [
       "              time       temp        wt       dta       wt_pc compound  \\\n",
       "0         0.000933   21.32432  9.058288 -0.012645  100.000000     both   \n",
       "1         0.004167   21.32125  9.058359 -0.012647  100.000784     both   \n",
       "2         0.012500   21.32316  9.058353 -0.012646  100.000718     both   \n",
       "3         0.020833   21.32828  9.058349 -0.012643  100.000673     both   \n",
       "4         0.029167   21.33278  9.058361 -0.012640  100.000806     both   \n",
       "...            ...        ...       ...       ...         ...      ...   \n",
       "116631  155.579200  797.84160  1.297143  0.015931   14.455047    tbbpa   \n",
       "116632  155.587500  797.88450  1.297430  0.015890   14.458245    tbbpa   \n",
       "116633  155.595800  797.92870  1.297572  0.015844   14.459828    tbbpa   \n",
       "116634  155.604200  797.97100  1.297616  0.015805   14.460318    tbbpa   \n",
       "116635  155.612500  798.01300  1.297571  0.015776   14.459816    tbbpa   \n",
       "\n",
       "        condition  \n",
       "0              20  \n",
       "1              20  \n",
       "2              20  \n",
       "3              20  \n",
       "4              20  \n",
       "...           ...  \n",
       "116631          5  \n",
       "116632          5  \n",
       "116633          5  \n",
       "116634          5  \n",
       "116635          5  \n",
       "\n",
       "[116636 rows x 7 columns]"
      ]
     },
     "execution_count": 12,
     "metadata": {},
     "output_type": "execute_result"
    }
   ],
   "source": [
    "df = pd.read_csv(\"data/consolidated_2022-10-13_v1\", index_col = None)\n",
    "df = df.drop(columns = 'Unnamed: 0')\n",
    "df.columns = [\"time\", \"temp\", \"wt\", \"dta\", \"wt_pc\", \"compound\", \"condition\"]\n",
    "df"
   ]
  },
  {
   "cell_type": "markdown",
   "metadata": {},
   "source": [
    "## Test Train Split"
   ]
  },
  {
   "cell_type": "code",
   "execution_count": 14,
   "metadata": {},
   "outputs": [],
   "source": [
    "X_train, X_test, y_train, y_test = train_test_split(df[[\"time\", \"temp\"]], df[\"wt\"], test_size=0.2, random_state=7)"
   ]
  },
  {
   "cell_type": "code",
   "execution_count": 15,
   "metadata": {},
   "outputs": [
    {
     "data": {
      "text/plain": [
       "((93308, 2), (23328, 2), (93308,), (23328,))"
      ]
     },
     "execution_count": 15,
     "metadata": {},
     "output_type": "execute_result"
    }
   ],
   "source": [
    "X_train.shape, X_test.shape, y_train.shape, y_test.shape"
   ]
  },
  {
   "cell_type": "markdown",
   "metadata": {},
   "source": [
    "## Feature Engineering"
   ]
  },
  {
   "cell_type": "code",
   "execution_count": null,
   "metadata": {},
   "outputs": [],
   "source": []
  },
  {
   "cell_type": "markdown",
   "metadata": {},
   "source": [
    "## Modelling"
   ]
  },
  {
   "cell_type": "markdown",
   "metadata": {},
   "source": [
    "### Linear Modelling"
   ]
  },
  {
   "cell_type": "code",
   "execution_count": 18,
   "metadata": {},
   "outputs": [],
   "source": [
    "reg = LinearRegression().fit(X_train, y_train)"
   ]
  },
  {
   "cell_type": "code",
   "execution_count": 19,
   "metadata": {},
   "outputs": [
    {
     "data": {
      "text/plain": [
       "0.44704675244825137"
      ]
     },
     "execution_count": 19,
     "metadata": {},
     "output_type": "execute_result"
    }
   ],
   "source": [
    "reg.score(X_train, y_train)"
   ]
  },
  {
   "cell_type": "code",
   "execution_count": null,
   "metadata": {},
   "outputs": [],
   "source": []
  }
 ],
 "metadata": {
  "kernelspec": {
   "display_name": "Python 3",
   "language": "python",
   "name": "python3"
  },
  "language_info": {
   "codemirror_mode": {
    "name": "ipython",
    "version": 3
   },
   "file_extension": ".py",
   "mimetype": "text/x-python",
   "name": "python",
   "nbconvert_exporter": "python",
   "pygments_lexer": "ipython3",
   "version": "3.7.6"
  }
 },
 "nbformat": 4,
 "nbformat_minor": 4
}

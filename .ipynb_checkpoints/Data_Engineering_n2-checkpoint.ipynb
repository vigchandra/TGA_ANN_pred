{
 "cells": [
  {
   "cell_type": "code",
   "execution_count": 1,
   "metadata": {},
   "outputs": [
    {
     "data": {
      "text/plain": [
       "DataTransformerRegistry.enable('default')"
      ]
     },
     "execution_count": 1,
     "metadata": {},
     "output_type": "execute_result"
    }
   ],
   "source": [
    "import pandas as pd\n",
    "import altair as alt\n",
    "alt.data_transformers.disable_max_rows()"
   ]
  },
  {
   "cell_type": "markdown",
   "metadata": {},
   "source": [
    "## Import Files"
   ]
  },
  {
   "cell_type": "code",
   "execution_count": 2,
   "metadata": {},
   "outputs": [],
   "source": [
    "df = pd.ExcelFile('data/TGA data with graphs (N2).xlsx')"
   ]
  },
  {
   "cell_type": "markdown",
   "metadata": {},
   "source": [
    "## What are the file names?"
   ]
  },
  {
   "cell_type": "code",
   "execution_count": 3,
   "metadata": {},
   "outputs": [
    {
     "data": {
      "text/plain": [
       "['Both 20C',\n",
       " 'Ca(OH)2 20C',\n",
       " 'TBBPA 20C',\n",
       " 'both 15C',\n",
       " 'Ca(OH)2 15C',\n",
       " 'TBBPA 15C',\n",
       " 'Ca(OH)2 10C',\n",
       " 'Both 10C',\n",
       " 'TBBPA 10C',\n",
       " 'Both 5C ',\n",
       " 'Ca(OH)2 5C',\n",
       " 'TBBPA 5C']"
      ]
     },
     "execution_count": 3,
     "metadata": {},
     "output_type": "execute_result"
    }
   ],
   "source": [
    "df.sheet_names"
   ]
  },
  {
   "cell_type": "markdown",
   "metadata": {},
   "source": [
    "## Import individual sheets"
   ]
  },
  {
   "cell_type": "code",
   "execution_count": 4,
   "metadata": {},
   "outputs": [
    {
     "name": "stdout",
     "output_type": "stream",
     "text": [
      "Imported  (4672, 7)\n",
      "Imported  (4669, 7)\n",
      "Imported  (4672, 7)\n",
      "Imported  (6218, 7)\n",
      "Imported  (6225, 7)\n",
      "Imported  (6228, 7)\n",
      "Imported  (9335, 7)\n",
      "Imported  (9319, 7)\n",
      "Imported  (9340, 7)\n",
      "Imported  (18626, 7)\n",
      "Imported  (18657, 7)\n",
      "Imported  (18675, 7)\n"
     ]
    }
   ],
   "source": [
    "d = {}\n",
    "for i in df.sheet_names:\n",
    "    k = i.replace(\" \", \"_\").replace(\"(\",\"\").replace(\")\",\"\")\n",
    "    d[k] = pd.DataFrame(df.parse(i))\n",
    "    d[k].columns = [\"Time (min)\",\"Temperature (°C)\",\"Weight (mg)\",\"DTA (%/°C)\",\"wt loss %\"]\n",
    "    d[k]['Compound'] = k.split('_')[0] # Add a column for condition\n",
    "    d[k]['Condition'] = k.split('_')[1].split('C')[0] # Add a column for condition\n",
    "    print(\"Imported \", d[k].shape)\n",
    "    "
   ]
  },
  {
   "cell_type": "markdown",
   "metadata": {},
   "source": [
    "## Concatenate all sheets"
   ]
  },
  {
   "cell_type": "code",
   "execution_count": 5,
   "metadata": {},
   "outputs": [
    {
     "name": "stdout",
     "output_type": "stream",
     "text": [
      "(9341, 7)\n",
      "(14013, 7)\n",
      "(20231, 7)\n",
      "(26456, 7)\n",
      "(32684, 7)\n",
      "(42019, 7)\n",
      "(51338, 7)\n",
      "(60678, 7)\n",
      "(79304, 7)\n",
      "(97961, 7)\n",
      "(116636, 7)\n"
     ]
    }
   ],
   "source": [
    "df_all = d[list(d.keys())[0]]\n",
    "for i in range(1, len(d.keys())):\n",
    "    df_all = df_all.append(d[list(d.keys())[i]])\n",
    "    print(df_all.shape)\n",
    "df_all['Compound'] = df_all['Compound'].str.lower()\n",
    "df_all['Condition'] = pd.to_numeric(df_all['Condition'])"
   ]
  },
  {
   "cell_type": "markdown",
   "metadata": {},
   "source": [
    "## Write to file"
   ]
  },
  {
   "cell_type": "code",
   "execution_count": 6,
   "metadata": {},
   "outputs": [
    {
     "data": {
      "text/html": [
       "<div>\n",
       "<style scoped>\n",
       "    .dataframe tbody tr th:only-of-type {\n",
       "        vertical-align: middle;\n",
       "    }\n",
       "\n",
       "    .dataframe tbody tr th {\n",
       "        vertical-align: top;\n",
       "    }\n",
       "\n",
       "    .dataframe thead th {\n",
       "        text-align: right;\n",
       "    }\n",
       "</style>\n",
       "<table border=\"1\" class=\"dataframe\">\n",
       "  <thead>\n",
       "    <tr style=\"text-align: right;\">\n",
       "      <th></th>\n",
       "      <th>Time (min)</th>\n",
       "      <th>Temperature (°C)</th>\n",
       "      <th>Weight (mg)</th>\n",
       "      <th>DTA (%/°C)</th>\n",
       "      <th>wt loss %</th>\n",
       "      <th>Compound</th>\n",
       "      <th>Condition</th>\n",
       "    </tr>\n",
       "  </thead>\n",
       "  <tbody>\n",
       "    <tr>\n",
       "      <th>0</th>\n",
       "      <td>0.000933</td>\n",
       "      <td>21.32432</td>\n",
       "      <td>9.058288</td>\n",
       "      <td>-0.012645</td>\n",
       "      <td>100.000000</td>\n",
       "      <td>both</td>\n",
       "      <td>20</td>\n",
       "    </tr>\n",
       "    <tr>\n",
       "      <th>1</th>\n",
       "      <td>0.004167</td>\n",
       "      <td>21.32125</td>\n",
       "      <td>9.058359</td>\n",
       "      <td>-0.012647</td>\n",
       "      <td>100.000784</td>\n",
       "      <td>both</td>\n",
       "      <td>20</td>\n",
       "    </tr>\n",
       "    <tr>\n",
       "      <th>2</th>\n",
       "      <td>0.012500</td>\n",
       "      <td>21.32316</td>\n",
       "      <td>9.058353</td>\n",
       "      <td>-0.012646</td>\n",
       "      <td>100.000718</td>\n",
       "      <td>both</td>\n",
       "      <td>20</td>\n",
       "    </tr>\n",
       "    <tr>\n",
       "      <th>3</th>\n",
       "      <td>0.020833</td>\n",
       "      <td>21.32828</td>\n",
       "      <td>9.058349</td>\n",
       "      <td>-0.012643</td>\n",
       "      <td>100.000673</td>\n",
       "      <td>both</td>\n",
       "      <td>20</td>\n",
       "    </tr>\n",
       "    <tr>\n",
       "      <th>4</th>\n",
       "      <td>0.029167</td>\n",
       "      <td>21.33278</td>\n",
       "      <td>9.058361</td>\n",
       "      <td>-0.012640</td>\n",
       "      <td>100.000806</td>\n",
       "      <td>both</td>\n",
       "      <td>20</td>\n",
       "    </tr>\n",
       "    <tr>\n",
       "      <th>...</th>\n",
       "      <td>...</td>\n",
       "      <td>...</td>\n",
       "      <td>...</td>\n",
       "      <td>...</td>\n",
       "      <td>...</td>\n",
       "      <td>...</td>\n",
       "      <td>...</td>\n",
       "    </tr>\n",
       "    <tr>\n",
       "      <th>18670</th>\n",
       "      <td>155.579200</td>\n",
       "      <td>797.84160</td>\n",
       "      <td>1.297143</td>\n",
       "      <td>0.015931</td>\n",
       "      <td>14.455047</td>\n",
       "      <td>tbbpa</td>\n",
       "      <td>5</td>\n",
       "    </tr>\n",
       "    <tr>\n",
       "      <th>18671</th>\n",
       "      <td>155.587500</td>\n",
       "      <td>797.88450</td>\n",
       "      <td>1.297430</td>\n",
       "      <td>0.015890</td>\n",
       "      <td>14.458245</td>\n",
       "      <td>tbbpa</td>\n",
       "      <td>5</td>\n",
       "    </tr>\n",
       "    <tr>\n",
       "      <th>18672</th>\n",
       "      <td>155.595800</td>\n",
       "      <td>797.92870</td>\n",
       "      <td>1.297572</td>\n",
       "      <td>0.015844</td>\n",
       "      <td>14.459828</td>\n",
       "      <td>tbbpa</td>\n",
       "      <td>5</td>\n",
       "    </tr>\n",
       "    <tr>\n",
       "      <th>18673</th>\n",
       "      <td>155.604200</td>\n",
       "      <td>797.97100</td>\n",
       "      <td>1.297616</td>\n",
       "      <td>0.015805</td>\n",
       "      <td>14.460318</td>\n",
       "      <td>tbbpa</td>\n",
       "      <td>5</td>\n",
       "    </tr>\n",
       "    <tr>\n",
       "      <th>18674</th>\n",
       "      <td>155.612500</td>\n",
       "      <td>798.01300</td>\n",
       "      <td>1.297571</td>\n",
       "      <td>0.015776</td>\n",
       "      <td>14.459816</td>\n",
       "      <td>tbbpa</td>\n",
       "      <td>5</td>\n",
       "    </tr>\n",
       "  </tbody>\n",
       "</table>\n",
       "<p>116636 rows × 7 columns</p>\n",
       "</div>"
      ],
      "text/plain": [
       "       Time (min)  Temperature (°C)  Weight (mg)  DTA (%/°C)   wt loss %  \\\n",
       "0        0.000933          21.32432     9.058288   -0.012645  100.000000   \n",
       "1        0.004167          21.32125     9.058359   -0.012647  100.000784   \n",
       "2        0.012500          21.32316     9.058353   -0.012646  100.000718   \n",
       "3        0.020833          21.32828     9.058349   -0.012643  100.000673   \n",
       "4        0.029167          21.33278     9.058361   -0.012640  100.000806   \n",
       "...           ...               ...          ...         ...         ...   \n",
       "18670  155.579200         797.84160     1.297143    0.015931   14.455047   \n",
       "18671  155.587500         797.88450     1.297430    0.015890   14.458245   \n",
       "18672  155.595800         797.92870     1.297572    0.015844   14.459828   \n",
       "18673  155.604200         797.97100     1.297616    0.015805   14.460318   \n",
       "18674  155.612500         798.01300     1.297571    0.015776   14.459816   \n",
       "\n",
       "      Compound  Condition  \n",
       "0         both         20  \n",
       "1         both         20  \n",
       "2         both         20  \n",
       "3         both         20  \n",
       "4         both         20  \n",
       "...        ...        ...  \n",
       "18670    tbbpa          5  \n",
       "18671    tbbpa          5  \n",
       "18672    tbbpa          5  \n",
       "18673    tbbpa          5  \n",
       "18674    tbbpa          5  \n",
       "\n",
       "[116636 rows x 7 columns]"
      ]
     },
     "execution_count": 6,
     "metadata": {},
     "output_type": "execute_result"
    }
   ],
   "source": [
    "df_all.to_csv('consolidated_2022-10-13_v1')\n",
    "df_all"
   ]
  },
  {
   "cell_type": "code",
   "execution_count": 7,
   "metadata": {},
   "outputs": [],
   "source": [
    "a = alt.Chart(df_all).mark_point().encode(\n",
    "    alt.Y(\"Weight (mg)\"),\n",
    "    alt.X(\"Temperature (°C)\"),\n",
    "    alt.Color(\"Condition:N\"),\n",
    "    alt.Facet('Compound')).properties(width = 300, height = 300, title = \"Weight vs. Temperature\")\n",
    "b = alt.Chart(df_all).mark_point().encode(\n",
    "    alt.Y(\"Weight (mg)\"),\n",
    "    alt.X(\"Time (min)\"),\n",
    "    alt.Color(\"Condition\"),\n",
    "    alt.Facet('Compound')).properties(width = 300, height = 300, title = \"Weight vs. Time\")"
   ]
  },
  {
   "cell_type": "code",
   "execution_count": 1,
   "metadata": {},
   "outputs": [],
   "source": [
    "#a"
   ]
  },
  {
   "cell_type": "code",
   "execution_count": 2,
   "metadata": {},
   "outputs": [],
   "source": [
    "#b"
   ]
  }
 ],
 "metadata": {
  "kernelspec": {
   "display_name": "Python 3",
   "language": "python",
   "name": "python3"
  },
  "language_info": {
   "codemirror_mode": {
    "name": "ipython",
    "version": 3
   },
   "file_extension": ".py",
   "mimetype": "text/x-python",
   "name": "python",
   "nbconvert_exporter": "python",
   "pygments_lexer": "ipython3",
   "version": "3.7.6"
  }
 },
 "nbformat": 4,
 "nbformat_minor": 4
}
